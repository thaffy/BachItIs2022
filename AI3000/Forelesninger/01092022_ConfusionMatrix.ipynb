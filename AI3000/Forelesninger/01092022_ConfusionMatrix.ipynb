{
 "cells": [
  {
   "cell_type": "code",
   "execution_count": 1,
   "metadata": {},
   "outputs": [],
   "source": [
    "import numpy as np\n",
    "import matplotlib.pyplot as plt\n",
    "from sklearn.metrics import confusion_matrix\n",
    "from sklearn.metrics import classification_report"
   ]
  },
  {
   "cell_type": "code",
   "execution_count": 2,
   "metadata": {},
   "outputs": [],
   "source": [
    "# Define sample labels for the ground truth and the predicted output:\n",
    "true_labels = [2, 0, 0, 2, 4, 4, 1, 0, 3, 3, 3]\n",
    "pred_labels = [2, 1, 0, 2, 4, 3, 1, 0, 1, 3, 3]"
   ]
  },
  {
   "cell_type": "code",
   "execution_count": 3,
   "metadata": {},
   "outputs": [],
   "source": [
    "# Create confusion matrix using the labels we just defined\n",
    "confusion_mat = confusion_matrix(true_labels, pred_labels)"
   ]
  },
  {
   "cell_type": "code",
   "execution_count": 4,
   "metadata": {},
   "outputs": [
    {
     "data": {
      "image/png": "[encoded data removed]",
      "text/plain": [
       "<Figure size 640x480 with 2 Axes>"
      ]
     },
     "metadata": {},
     "output_type": "display_data"
    }
   ],
   "source": [
    "# Visualize confusion matrix\n",
    "plt.imshow(confusion_mat, interpolation='nearest', cmap=plt.cm.gray)#jet) #gray)\n",
    "plt.title('Confusion matrix')\n",
    "plt.colorbar()\n",
    "ticks = np.arange(5)\n",
    "plt.xticks(ticks, ticks)\n",
    "plt.yticks(ticks, ticks)\n",
    "plt.ylabel('True labels')\n",
    "plt.xlabel('Predicted labels')\n",
    "plt.show()"
   ]
  },
  {
   "cell_type": "code",
   "execution_count": 5,
   "metadata": {},
   "outputs": [
    {
     "name": "stdout",
     "output_type": "stream",
     "text": [
      "\n",
      "               precision    recall  f1-score   support\n",
      "\n",
      "     Class-0       1.00      0.67      0.80         3\n",
      "     Class-1       0.33      1.00      0.50         1\n",
      "     Class-2       1.00      1.00      1.00         2\n",
      "     Class-3       0.67      0.67      0.67         3\n",
      "     Class-4       1.00      0.50      0.67         2\n",
      "\n",
      "    accuracy                           0.73        11\n",
      "   macro avg       0.80      0.77      0.73        11\n",
      "weighted avg       0.85      0.73      0.75        11\n",
      "\n"
     ]
    }
   ],
   "source": [
    "# Classification report\n",
    "targets = ['Class-0', 'Class-1', 'Class-2', 'Class-3', 'Class-4']\n",
    "print('\\n', classification_report(true_labels, pred_labels,target_names=targets))"
   ]
  },
  {
   "cell_type": "markdown",
   "metadata": {},
   "source": [
    "• As we can see the average precision was 85% and the average recall was 73%. Whereas the\n",
    "f1-score was 75%.\n",
    "\n",
    "• Depending on the domain we are working with, these might be great results or poor results.\n",
    "\n",
    "• If the domain in question was to try to determine whether a patient has cancer and we were\n",
    "only able to have precision of 85%, 15% of the population would have been misclassified and\n",
    "would be quite unhappy.\n",
    "\n",
    "• If the domain we were analyzing was whether someone was going to buy a product and our\n",
    "precision had the same results, this might be considered a home run and greatly reduce our\n",
    "1\n",
    "marketing expenses."
   ]
  },
  {
   "cell_type": "code",
   "execution_count": null,
   "metadata": {},
   "outputs": [],
   "source": []
  }
 ],
 "metadata": {
  "kernelspec": {
   "display_name": "Python 3.8.5 64-bit",
   "language": "python",
   "name": "python3"
  },
  "language_info": {
   "codemirror_mode": {
    "name": "ipython",
    "version": 3
   },
   "file_extension": ".py",
   "mimetype": "text/x-python",
   "name": "python",
   "nbconvert_exporter": "python",
   "pygments_lexer": "ipython3",
   "version": "3.8.5"
  },
  "orig_nbformat": 4,
  "vscode": {
   "interpreter": {
    "hash": "aee8b7b246df8f9039afb4144a1f6fd8d2ca17a180786b69acc140d282b71a49"
   }
  }
 },
 "nbformat": 4,
 "nbformat_minor": 2
}
