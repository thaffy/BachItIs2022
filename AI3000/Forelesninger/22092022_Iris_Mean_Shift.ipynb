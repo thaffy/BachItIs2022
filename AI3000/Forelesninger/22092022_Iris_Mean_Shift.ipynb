{
 "cells": [
  {
   "cell_type": "code",
   "execution_count": 1,
   "metadata": {},
   "outputs": [],
   "source": [
    "import numpy as np\n",
    "import matplotlib.pyplot as plt\n",
    "from sklearn.cluster import MeanShift, estimate_bandwidth\n",
    "from itertools import cycle"
   ]
  },
  {
   "cell_type": "code",
   "execution_count": 4,
   "metadata": {},
   "outputs": [],
   "source": [
    "X = np.loadtxt('data_clustering-3.txt',delimiter=',')"
   ]
  },
  {
   "cell_type": "code",
   "execution_count": 5,
   "metadata": {},
   "outputs": [],
   "source": [
    "bandwidth_X = estimate_bandwidth(X, quantile=0.1, n_samples=len(X))"
   ]
  },
  {
   "cell_type": "code",
   "execution_count": 8,
   "metadata": {},
   "outputs": [
    {
     "data": {
      "text/plain": [
       "MeanShift(bandwidth=1.3044799765090382, bin_seeding=True)"
      ]
     },
     "execution_count": 8,
     "metadata": {},
     "output_type": "execute_result"
    }
   ],
   "source": [
    "meanshift_model = MeanShift(bandwidth=bandwidth_X, bin_seeding=True)\n",
    "meanshift_model.fit(X)"
   ]
  },
  {
   "cell_type": "code",
   "execution_count": 10,
   "metadata": {},
   "outputs": [
    {
     "name": "stdout",
     "output_type": "stream",
     "text": [
      "\n",
      "Centers of clusters:\n",
      " [[2.95568966 1.95775862]\n",
      " [7.20690909 2.20836364]\n",
      " [2.17603774 8.03283019]\n",
      " [5.97960784 8.39078431]\n",
      " [4.99466667 4.65844444]]\n"
     ]
    }
   ],
   "source": [
    "cluster_centers = meanshift_model.cluster_centers_\n",
    "print('\\nCenters of clusters:\\n', cluster_centers)"
   ]
  },
  {
   "cell_type": "code",
   "execution_count": 11,
   "metadata": {},
   "outputs": [
    {
     "name": "stdout",
     "output_type": "stream",
     "text": [
      "\n",
      "Number of clusters in input data = 5\n"
     ]
    }
   ],
   "source": [
    "labels = meanshift_model.labels_\n",
    "num_clusters = len(np.unique(labels))\n",
    "print('\\nNumber of clusters in input data =', num_clusters)"
   ]
  },
  {
   "cell_type": "code",
   "execution_count": 19,
   "metadata": {},
   "outputs": [
    {
     "data": {
      "image/png": "[encoded data removed]",
      "text/plain": [
       "<Figure size 432x288 with 1 Axes>"
      ]
     },
     "metadata": {
      "needs_background": "light"
     },
     "output_type": "display_data"
    }
   ],
   "source": [
    "plt.figure()\n",
    "markers = 'o*xvs'\n",
    "for i, marker in zip(range(num_clusters), markers):\n",
    "    # Plot points that belong to the current cluster\n",
    "    plt.scatter(X[labels==i, 0], X[labels==i, 1], marker=marker, color='black')\n",
    "\n",
    "    # Plot the cluster center\n",
    "    cluster_center = cluster_centers[i]\n",
    "    plt.plot(cluster_center[0], cluster_center[1], marker='o', markerfacecolor='red', markeredgecolor='black', markersize=15)\n",
    "\n",
    "plt.title('Clusters')\n",
    "plt.show()"
   ]
  },
  {
   "cell_type": "code",
   "execution_count": null,
   "metadata": {},
   "outputs": [],
   "source": []
  }
 ],
 "metadata": {
  "kernelspec": {
   "display_name": "Python 3.9.12 ('base')",
   "language": "python",
   "name": "python3"
  },
  "language_info": {
   "codemirror_mode": {
    "name": "ipython",
    "version": 3
   },
   "file_extension": ".py",
   "mimetype": "text/x-python",
   "name": "python",
   "nbconvert_exporter": "python",
   "pygments_lexer": "ipython3",
   "version": "3.9.12"
  },
  "orig_nbformat": 4,
  "vscode": {
   "interpreter": {
    "hash": "3d5127edd1a7d8c4c802a7fc17d3f16093ecce2c0701ae28f2b22054652ae200"
   }
  }
 },
 "nbformat": 4,
 "nbformat_minor": 2
}
